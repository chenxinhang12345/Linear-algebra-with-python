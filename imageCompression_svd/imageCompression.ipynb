{
 "cells": [
  {
   "cell_type": "code",
   "execution_count": 15,
   "metadata": {},
   "outputs": [],
   "source": [
    "from PIL import Image"
   ]
  },
  {
   "cell_type": "code",
   "execution_count": 16,
   "metadata": {},
   "outputs": [],
   "source": [
    "import numpy as np"
   ]
  },
  {
   "cell_type": "code",
   "execution_count": 17,
   "metadata": {},
   "outputs": [],
   "source": [
    "import scipy as sc"
   ]
  },
  {
   "cell_type": "code",
   "execution_count": 42,
   "metadata": {},
   "outputs": [],
   "source": [
    "#data must be a 2d array n is the number of eigenvalues taken\n",
    "def compressData(data,n):\n",
    "    u, s, vh = np.linalg.svd(data, full_matrices=True)\n",
    "    datanew = np.zeros((len(data),len(data[0])))\n",
    "    for i in range(n):\n",
    "        e = s[i]\n",
    "        for j in range (len(datanew)):\n",
    "            datanew[j]+=e*u[j][i]*vh[i]\n",
    "    for i in datanew:\n",
    "        i+=0.5\n",
    "    datanew = datanew.astype('uint8')\n",
    "    return datanew"
   ]
  },
  {
   "cell_type": "code",
   "execution_count": 43,
   "metadata": {},
   "outputs": [],
   "source": [
    "im = Image.open(\"Rikka.png\")\n",
    "a = np.asarray(im)\n",
    "#im.show()#original image"
   ]
  },
  {
   "cell_type": "code",
   "execution_count": 44,
   "metadata": {},
   "outputs": [
    {
     "data": {
      "text/plain": [
       "array([[[ 50, 144, 253, 255],\n",
       "        [ 50, 144, 253, 255],\n",
       "        [ 50, 144, 253, 255],\n",
       "        ...,\n",
       "        [ 80, 167, 255, 255],\n",
       "        [ 80, 167, 255, 255],\n",
       "        [ 80, 167, 255, 255]],\n",
       "\n",
       "       [[ 50, 144, 253, 255],\n",
       "        [ 50, 144, 253, 255],\n",
       "        [ 50, 144, 253, 255],\n",
       "        ...,\n",
       "        [ 78, 165, 253, 255],\n",
       "        [ 78, 165, 253, 255],\n",
       "        [ 79, 166, 254, 255]],\n",
       "\n",
       "       [[ 50, 144, 253, 255],\n",
       "        [ 50, 144, 253, 255],\n",
       "        [ 50, 144, 253, 255],\n",
       "        ...,\n",
       "        [ 77, 165, 253, 255],\n",
       "        [ 78, 165, 253, 255],\n",
       "        [ 78, 165, 253, 255]],\n",
       "\n",
       "       ...,\n",
       "\n",
       "       [[ 71, 173, 238, 255],\n",
       "        [ 71, 173, 238, 255],\n",
       "        [ 72, 173, 238, 255],\n",
       "        ...,\n",
       "        [ 80, 191, 246, 255],\n",
       "        [ 80, 191, 246, 255],\n",
       "        [ 80, 191, 246, 255]],\n",
       "\n",
       "       [[ 71, 172, 236, 255],\n",
       "        [ 70, 171, 235, 255],\n",
       "        [ 70, 171, 235, 255],\n",
       "        ...,\n",
       "        [ 80, 191, 246, 255],\n",
       "        [ 80, 191, 246, 255],\n",
       "        [ 80, 191, 246, 255]],\n",
       "\n",
       "       [[ 70, 171, 235, 255],\n",
       "        [ 69, 170, 234, 255],\n",
       "        [ 68, 168, 233, 255],\n",
       "        ...,\n",
       "        [ 80, 191, 246, 255],\n",
       "        [ 81, 192, 248, 255],\n",
       "        [ 80, 191, 246, 255]]], dtype=uint8)"
      ]
     },
     "execution_count": 44,
     "metadata": {},
     "output_type": "execute_result"
    }
   ],
   "source": [
    "a"
   ]
  },
  {
   "cell_type": "code",
   "execution_count": 45,
   "metadata": {},
   "outputs": [],
   "source": [
    "l = np.moveaxis(a, -1, 0)"
   ]
  },
  {
   "cell_type": "code",
   "execution_count": 46,
   "metadata": {},
   "outputs": [
    {
     "data": {
      "text/plain": [
       "array([[50, 50, 50, ..., 80, 80, 80],\n",
       "       [50, 50, 50, ..., 78, 78, 79],\n",
       "       [50, 50, 50, ..., 77, 78, 78],\n",
       "       ...,\n",
       "       [71, 71, 72, ..., 80, 80, 80],\n",
       "       [71, 70, 70, ..., 80, 80, 80],\n",
       "       [70, 69, 68, ..., 80, 81, 80]], dtype=uint8)"
      ]
     },
     "execution_count": 46,
     "metadata": {},
     "output_type": "execute_result"
    }
   ],
   "source": [
    "l[0]"
   ]
  },
  {
   "cell_type": "code",
   "execution_count": 47,
   "metadata": {},
   "outputs": [
    {
     "data": {
      "text/plain": [
       "(1080, 1920)"
      ]
     },
     "execution_count": 47,
     "metadata": {},
     "output_type": "execute_result"
    }
   ],
   "source": [
    "l[2].shape"
   ]
  },
  {
   "cell_type": "code",
   "execution_count": 50,
   "metadata": {},
   "outputs": [],
   "source": [
    "n = 500\n",
    "lnew = l.copy()\n",
    "for i in range(len(lnew)):\n",
    "       lnew[i] = compressData(lnew[i],n)\n",
    "anew = np.stack(lnew,axis=-1)"
   ]
  },
  {
   "cell_type": "code",
   "execution_count": 51,
   "metadata": {},
   "outputs": [],
   "source": [
    "imnew = Image.fromarray(anew)\n",
    "imnew.show()"
   ]
  },
  {
   "cell_type": "code",
   "execution_count": 52,
   "metadata": {},
   "outputs": [],
   "source": [
    "imnew.save(\"rikka_compressed.png\")"
   ]
  },
  {
   "cell_type": "code",
   "execution_count": null,
   "metadata": {},
   "outputs": [],
   "source": []
  },
  {
   "cell_type": "code",
   "execution_count": null,
   "metadata": {},
   "outputs": [],
   "source": []
  }
 ],
 "metadata": {
  "kernelspec": {
   "display_name": "Python 3",
   "language": "python",
   "name": "python3"
  },
  "language_info": {
   "codemirror_mode": {
    "name": "ipython",
    "version": 3
   },
   "file_extension": ".py",
   "mimetype": "text/x-python",
   "name": "python",
   "nbconvert_exporter": "python",
   "pygments_lexer": "ipython3",
   "version": "3.7.0"
  }
 },
 "nbformat": 4,
 "nbformat_minor": 2
}
